{
 "cells": [
  {
   "cell_type": "markdown",
   "id": "09eeaffa-51a8-47ef-b159-b9e1d953e4d7",
   "metadata": {},
   "source": [
    "# Data Science Tools and Ecosystem"
   ]
  },
  {
   "cell_type": "markdown",
   "id": "366e03ce-a0b5-40ab-9963-8fc121504c22",
   "metadata": {},
   "source": [
    "In this notebook, Data Science Tools and Ecosystem are summarized."
   ]
  },
  {
   "cell_type": "markdown",
   "id": "2ad62ef4-c17e-4664-9fb2-22702216fd8d",
   "metadata": {
    "tags": []
   },
   "source": [
    "**Objectives:**\n",
    "+ Popular Languages for Data Science\n",
    "+ Commonly used Libraries for Data Science\n",
    "+ Creating a Chart in Jupyter Notebooks"
   ]
  },
  {
   "cell_type": "markdown",
   "id": "d6ebabe8-39c3-4d4e-b3d3-0881f51f97c6",
   "metadata": {},
   "source": [
    "Some of the popular languages that Data Scientists use are:\n",
    "1. Python\n",
    "2. R\n",
    "3. SQL\n"
   ]
  },
  {
   "cell_type": "markdown",
   "id": "366d64cb-d870-4f24-ba79-3b56b0268997",
   "metadata": {},
   "source": [
    "Some of the commonly used libraries used by Data Scientists include:\n",
    "1. Pandas (used in Python)\n",
    "2. NumPy (used in Python)\n",
    "3. ggplot2 (used in R)"
   ]
  },
  {
   "cell_type": "markdown",
   "id": "e61b91c0-b688-4177-bd63-4779b723beb2",
   "metadata": {},
   "source": [
    "|Data Science Tools|\n",
    "|------|\n",
    "|Jupyter Notebooks|\n",
    "|RStudio|\n",
    "|Apache Zeppelin|"
   ]
  },
  {
   "cell_type": "markdown",
   "id": "8a97c135-689f-40bc-9d29-cec5587117cf",
   "metadata": {
    "tags": []
   },
   "source": [
    "### Below are a few examples of evaluating arithmetic expressions in Python"
   ]
  },
  {
   "cell_type": "code",
   "execution_count": 2,
   "id": "06bd25d3-8172-4af0-b4fc-a3de32671102",
   "metadata": {
    "tags": []
   },
   "outputs": [
    {
     "data": {
      "text/plain": [
       "17"
      ]
     },
     "execution_count": 2,
     "metadata": {},
     "output_type": "execute_result"
    }
   ],
   "source": [
    "# This a simple arithmetic expression to mutiply then add integers\n",
    "(3*4)+5\n"
   ]
  },
  {
   "cell_type": "code",
   "execution_count": 3,
   "id": "1b2b5f77-6564-485f-ade6-40efeb3216c7",
   "metadata": {
    "tags": []
   },
   "outputs": [
    {
     "data": {
      "text/plain": [
       "3.3333333333333335"
      ]
     },
     "execution_count": 3,
     "metadata": {},
     "output_type": "execute_result"
    }
   ],
   "source": [
    "# This will convert 200 minutes to hours by diving by 60\n",
    "minutes = 200\n",
    "hours = minutes/60\n",
    "hours"
   ]
  },
  {
   "cell_type": "markdown",
   "id": "79836bfb-01fd-444f-9243-97b89f8ae577",
   "metadata": {},
   "source": [
    "## Author\n",
    "Glenn Stutts"
   ]
  }
 ],
 "metadata": {
  "kernelspec": {
   "display_name": "Python",
   "language": "python",
   "name": "conda-env-python-py"
  },
  "language_info": {
   "codemirror_mode": {
    "name": "ipython",
    "version": 3
   },
   "file_extension": ".py",
   "mimetype": "text/x-python",
   "name": "python",
   "nbconvert_exporter": "python",
   "pygments_lexer": "ipython3",
   "version": "3.7.12"
  }
 },
 "nbformat": 4,
 "nbformat_minor": 5
}
